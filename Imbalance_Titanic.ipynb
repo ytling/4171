{
  "nbformat": 4,
  "nbformat_minor": 0,
  "metadata": {
    "colab": {
      "name": "Imbalance_Titanic.ipynb",
      "provenance": [],
      "collapsed_sections": [],
      "toc_visible": true,
      "authorship_tag": "ABX9TyOf8twFOLD7h7+nY2932C0q",
      "include_colab_link": true
    },
    "kernelspec": {
      "name": "python3",
      "display_name": "Python 3"
    },
    "language_info": {
      "name": "python"
    }
  },
  "cells": [
    {
      "cell_type": "markdown",
      "metadata": {
        "id": "view-in-github",
        "colab_type": "text"
      },
      "source": [
        "<a href=\"https://colab.research.google.com/github/ytling/4171/blob/gh-pages/Imbalance_Titanic.ipynb\" target=\"_parent\"><img src=\"https://colab.research.google.com/assets/colab-badge.svg\" alt=\"Open In Colab\"/></a>"
      ]
    },
    {
      "cell_type": "code",
      "metadata": {
        "colab": {
          "base_uri": "https://localhost:8080/"
        },
        "id": "a4slOQKAaecm",
        "outputId": "cdce0cf5-48d4-4718-8152-312b5a3ffed6"
      },
      "source": [
        "from google.colab import drive\n",
        "drive.mount('/content/drive')\n",
        "import os\n",
        "os.chdir('/content/drive/My Drive/colabData')"
      ],
      "execution_count": 4,
      "outputs": [
        {
          "output_type": "stream",
          "text": [
            "Mounted at /content/drive\n"
          ],
          "name": "stdout"
        }
      ]
    },
    {
      "cell_type": "code",
      "metadata": {
        "id": "DduWOpChi6EL"
      },
      "source": [
        "import pandas as pd\n",
        "import numpy as np"
      ],
      "execution_count": 5,
      "outputs": []
    },
    {
      "cell_type": "markdown",
      "metadata": {
        "id": "X1sbya5MH8b8"
      },
      "source": [
        "# Imbalance data \n",
        "\n",
        "example dataset: titanic \n",
        "\n",
        "When there is a modest class imbalance like 4:1 in the example above it can cause problems. \\\n",
        "\n",
        "\n",
        "Step:\n",
        "0.  Observing the dataset.\n",
        "1.  pre-processing the dataset \n",
        "2.  Resampling.we will use the oversamplying as the small data size and try the  SMOTE methond with the `imbalanced-learn` library.\n",
        "3. measure method: \n",
        "  + Confusion Matrix\n",
        "  + F1 Score (or F-score): A weighted average of precision and recall.\n",
        "  + Kappa (or Cohen’s kappa)\n",
        "  + ROC Curves: thresholds of these values\n",
        "\n",
        "\n",
        "reference:[mlmastery](https://machinelearningmastery.com/tactics-to-combat-imbalanced-classes-in-your-machine-learning-dataset/)"
      ]
    },
    {
      "cell_type": "code",
      "metadata": {
        "id": "CLMPHBW-aukD"
      },
      "source": [
        "df = pd.DataFrame(pd.read_csv('train.csv'))"
      ],
      "execution_count": 6,
      "outputs": []
    },
    {
      "cell_type": "markdown",
      "metadata": {
        "id": "4LTcqEZkLxUc"
      },
      "source": [
        "## Section0\n",
        "\"check\"\n",
        "1. type of the variables\n",
        "2. missing data "
      ]
    },
    {
      "cell_type": "code",
      "metadata": {
        "colab": {
          "base_uri": "https://localhost:8080/"
        },
        "id": "Yz3uNw6jOIiU",
        "outputId": "f9cb6e6d-1e19-4d23-a13d-ee1b42629bd5"
      },
      "source": [
        "# split the variables into character and numerical\n",
        "numeric = df.select_dtypes(include=['int64', 'float64']).columns.tolist()\n",
        "character = df.select_dtypes(exclude=['int64','float64']).columns.tolist()\n",
        "print('list the numeric ', numeric)\n",
        "print('list the category', character)"
      ],
      "execution_count": 7,
      "outputs": [
        {
          "output_type": "stream",
          "text": [
            "list the numeric  ['PassengerId', 'Survived', 'Pclass', 'Age', 'SibSp', 'Parch', 'Fare']\n",
            "list the category ['Name', 'Sex', 'Ticket', 'Cabin', 'Embarked']\n"
          ],
          "name": "stdout"
        }
      ]
    },
    {
      "cell_type": "code",
      "metadata": {
        "colab": {
          "base_uri": "https://localhost:8080/"
        },
        "id": "mHYiCSy0UepE",
        "outputId": "07afd775-f83b-44db-8378-7ca06a1e1868"
      },
      "source": [
        "print('null value', df.isnull().sum())\n",
        " # a lot of missing in age, however, it is possible to find more information"
      ],
      "execution_count": 8,
      "outputs": [
        {
          "output_type": "stream",
          "text": [
            "null value PassengerId      0\n",
            "Survived         0\n",
            "Pclass           0\n",
            "Name             0\n",
            "Sex              0\n",
            "Age            177\n",
            "SibSp            0\n",
            "Parch            0\n",
            "Ticket           0\n",
            "Fare             0\n",
            "Cabin          687\n",
            "Embarked         2\n",
            "dtype: int64\n"
          ],
          "name": "stdout"
        }
      ]
    },
    {
      "cell_type": "code",
      "metadata": {
        "colab": {
          "base_uri": "https://localhost:8080/"
        },
        "id": "3g4prMdVtC7g",
        "outputId": "e165cccf-e023-44b9-f595-3f99fbb80ab7"
      },
      "source": [
        "print('--age--')\n",
        "print(df.Age.describe())\n",
        "print()"
      ],
      "execution_count": 9,
      "outputs": [
        {
          "output_type": "stream",
          "text": [
            "--age--\n",
            "count    714.000000\n",
            "mean      29.699118\n",
            "std       14.526497\n",
            "min        0.420000\n",
            "25%       20.125000\n",
            "50%       28.000000\n",
            "75%       38.000000\n",
            "max       80.000000\n",
            "Name: Age, dtype: float64\n",
            "\n"
          ],
          "name": "stdout"
        }
      ]
    },
    {
      "cell_type": "code",
      "metadata": {
        "id": "zReI6Z_FJleU"
      },
      "source": [
        "df['Age'] = df['Age'].fillna(0)"
      ],
      "execution_count": 10,
      "outputs": []
    },
    {
      "cell_type": "code",
      "metadata": {
        "colab": {
          "base_uri": "https://localhost:8080/",
          "height": 542
        },
        "id": "Kczkt3s6F8QZ",
        "outputId": "4b86f7e5-acd5-45da-98a4-199f545cbb80"
      },
      "source": [
        "import plotly.express as px\n",
        "\n",
        "df_Age = df.loc[:,['Age','Survived']]\n",
        "fig = px.histogram(df_Age, x=\"Age\", color=\"Survived\" )\n",
        "fig.show()"
      ],
      "execution_count": 11,
      "outputs": [
        {
          "output_type": "display_data",
          "data": {
            "text/html": [
              "<html>\n",
              "<head><meta charset=\"utf-8\" /></head>\n",
              "<body>\n",
              "    <div>\n",
              "            <script src=\"https://cdnjs.cloudflare.com/ajax/libs/mathjax/2.7.5/MathJax.js?config=TeX-AMS-MML_SVG\"></script><script type=\"text/javascript\">if (window.MathJax) {MathJax.Hub.Config({SVG: {font: \"STIX-Web\"}});}</script>\n",
              "                <script type=\"text/javascript\">window.PlotlyConfig = {MathJaxConfig: 'local'};</script>\n",
              "        <script src=\"https://cdn.plot.ly/plotly-latest.min.js\"></script>    \n",
              "            <div id=\"2abcf280-6b4e-4cf6-bb50-e940cfc38301\" class=\"plotly-graph-div\" style=\"height:525px; width:100%;\"></div>\n",
              "            <script type=\"text/javascript\">\n",
              "                \n",
              "                    window.PLOTLYENV=window.PLOTLYENV || {};\n",
              "                    \n",
              "                if (document.getElementById(\"2abcf280-6b4e-4cf6-bb50-e940cfc38301\")) {\n",
              "                    Plotly.newPlot(\n",
              "                        '2abcf280-6b4e-4cf6-bb50-e940cfc38301',\n",
              "                        [{\"alignmentgroup\": \"True\", \"bingroup\": \"x\", \"hoverlabel\": {\"namelength\": 0}, \"hovertemplate\": \"Survived=0<br>Age=%{x}<br>count=%{y}\", \"legendgroup\": \"Survived=0\", \"marker\": {\"color\": \"#636efa\"}, \"name\": \"Survived=0\", \"offsetgroup\": \"Survived=0\", \"orientation\": \"v\", \"showlegend\": true, \"type\": \"histogram\", \"x\": [22.0, 35.0, 0.0, 54.0, 2.0, 20.0, 39.0, 14.0, 2.0, 31.0, 35.0, 8.0, 0.0, 19.0, 0.0, 40.0, 66.0, 28.0, 42.0, 21.0, 18.0, 40.0, 27.0, 0.0, 0.0, 0.0, 0.0, 18.0, 7.0, 21.0, 65.0, 28.5, 11.0, 22.0, 45.0, 4.0, 0.0, 19.0, 26.0, 32.0, 16.0, 21.0, 26.0, 25.0, 0.0, 0.0, 22.0, 28.0, 16.0, 0.0, 24.0, 29.0, 20.0, 46.0, 26.0, 59.0, 0.0, 71.0, 34.0, 28.0, 0.0, 21.0, 33.0, 37.0, 28.0, 38.0, 47.0, 14.5, 22.0, 20.0, 17.0, 21.0, 70.5, 29.0, 24.0, 2.0, 21.0, 0.0, 32.5, 54.0, 0.0, 45.0, 33.0, 20.0, 47.0, 25.0, 23.0, 37.0, 16.0, 24.0, 0.0, 19.0, 18.0, 19.0, 9.0, 36.5, 42.0, 51.0, 55.5, 40.5, 0.0, 51.0, 30.0, 0.0, 0.0, 44.0, 26.0, 17.0, 1.0, 45.0, 0.0, 28.0, 61.0, 4.0, 21.0, 56.0, 18.0, 0.0, 50.0, 30.0, 36.0, 0.0, 0.0, 9.0, 0.0, 40.0, 36.0, 19.0, 0.0, 42.0, 24.0, 28.0, 0.0, 34.0, 45.5, 2.0, 32.0, 24.0, 22.0, 30.0, 0.0, 42.0, 30.0, 27.0, 51.0, 0.0, 22.0, 20.5, 18.0, 0.0, 29.0, 59.0, 24.0, 0.0, 44.0, 19.0, 33.0, 0.0, 29.0, 22.0, 30.0, 44.0, 25.0, 54.0, 0.0, 29.0, 62.0, 30.0, 41.0, 0.0, 52.0, 40.0, 0.0, 36.0, 16.0, 0.0, 37.0, 45.0, 0.0, 7.0, 65.0, 28.0, 16.0, 0.0, 33.0, 22.0, 36.0, 24.0, 24.0, 0.0, 23.5, 2.0, 19.0, 0.0, 30.0, 26.0, 28.0, 43.0, 54.0, 22.0, 27.0, 0.0, 61.0, 45.5, 38.0, 16.0, 0.0, 29.0, 45.0, 28.0, 25.0, 36.0, 42.0, 23.0, 0.0, 15.0, 25.0, 0.0, 28.0, 38.0, 40.0, 29.0, 45.0, 35.0, 0.0, 30.0, 18.0, 19.0, 22.0, 3.0, 27.0, 20.0, 19.0, 32.0, 0.0, 18.0, 1.0, 0.0, 28.0, 22.0, 31.0, 46.0, 23.0, 26.0, 21.0, 28.0, 20.0, 34.0, 51.0, 21.0, 0.0, 0.0, 0.0, 0.0, 0.0, 30.0, 10.0, 0.0, 21.0, 29.0, 28.0, 18.0, 0.0, 0.0, 17.0, 50.0, 21.0, 64.0, 31.0, 20.0, 25.0, 36.0, 0.0, 30.0, 0.0, 65.0, 0.0, 34.0, 47.0, 48.0, 0.0, 38.0, 0.0, 56.0, 0.0, 0.0, 38.0, 22.0, 0.0, 34.0, 29.0, 22.0, 9.0, 0.0, 50.0, 0.0, 58.0, 30.0, 0.0, 21.0, 55.0, 71.0, 21.0, 0.0, 0.0, 25.0, 24.0, 17.0, 21.0, 0.0, 37.0, 18.0, 28.0, 0.0, 24.0, 47.0, 0.0, 32.0, 22.0, 0.0, 0.0, 40.5, 0.0, 39.0, 23.0, 0.0, 17.0, 30.0, 45.0, 0.0, 9.0, 11.0, 50.0, 64.0, 33.0, 27.0, 0.0, 62.0, 0.0, 0.0, 40.0, 28.0, 0.0, 0.0, 24.0, 19.0, 29.0, 0.0, 16.0, 19.0, 0.0, 54.0, 36.0, 0.0, 47.0, 22.0, 0.0, 35.0, 47.0, 0.0, 37.0, 36.0, 49.0, 0.0, 0.0, 0.0, 44.0, 36.0, 30.0, 39.0, 0.0, 0.0, 35.0, 34.0, 26.0, 26.0, 27.0, 21.0, 21.0, 61.0, 57.0, 26.0, 0.0, 51.0, 0.0, 9.0, 32.0, 31.0, 41.0, 0.0, 20.0, 2.0, 19.0, 0.0, 0.0, 21.0, 18.0, 24.0, 0.0, 32.0, 23.0, 58.0, 40.0, 47.0, 36.0, 32.0, 25.0, 0.0, 43.0, 31.0, 70.0, 0.0, 18.0, 24.5, 43.0, 0.0, 20.0, 14.0, 60.0, 25.0, 14.0, 19.0, 18.0, 25.0, 60.0, 52.0, 44.0, 49.0, 42.0, 18.0, 25.0, 26.0, 39.0, 0.0, 29.0, 52.0, 19.0, 0.0, 33.0, 17.0, 34.0, 50.0, 20.0, 25.0, 25.0, 11.0, 0.0, 23.0, 23.0, 28.5, 48.0, 0.0, 0.0, 36.0, 24.0, 70.0, 16.0, 19.0, 31.0, 33.0, 23.0, 28.0, 18.0, 34.0, 0.0, 41.0, 16.0, 0.0, 30.5, 0.0, 32.0, 24.0, 48.0, 57.0, 0.0, 18.0, 0.0, 0.0, 29.0, 0.0, 25.0, 25.0, 8.0, 46.0, 0.0, 16.0, 0.0, 0.0, 25.0, 39.0, 30.0, 30.0, 34.0, 31.0, 39.0, 18.0, 39.0, 26.0, 39.0, 35.0, 6.0, 30.5, 0.0, 23.0, 31.0, 43.0, 10.0, 38.0, 2.0, 0.0, 0.0, 0.0, 23.0, 18.0, 21.0, 0.0, 20.0, 16.0, 34.5, 17.0, 42.0, 0.0, 35.0, 28.0, 4.0, 74.0, 9.0, 44.0, 0.0, 41.0, 21.0, 0.0, 24.0, 31.0, 0.0, 26.0, 33.0, 47.0, 20.0, 19.0, 0.0, 33.0, 22.0, 28.0, 25.0, 39.0, 27.0, 0.0, 32.0], \"xaxis\": \"x\", \"yaxis\": \"y\"}, {\"alignmentgroup\": \"True\", \"bingroup\": \"x\", \"hoverlabel\": {\"namelength\": 0}, \"hovertemplate\": \"Survived=1<br>Age=%{x}<br>count=%{y}\", \"legendgroup\": \"Survived=1\", \"marker\": {\"color\": \"#EF553B\"}, \"name\": \"Survived=1\", \"offsetgroup\": \"Survived=1\", \"orientation\": \"v\", \"showlegend\": true, \"type\": \"histogram\", \"x\": [38.0, 26.0, 35.0, 27.0, 14.0, 4.0, 58.0, 55.0, 0.0, 0.0, 34.0, 15.0, 28.0, 38.0, 0.0, 0.0, 0.0, 0.0, 14.0, 3.0, 19.0, 0.0, 49.0, 29.0, 0.0, 21.0, 5.0, 38.0, 0.0, 29.0, 17.0, 32.0, 0.83, 30.0, 29.0, 0.0, 17.0, 33.0, 23.0, 23.0, 34.0, 21.0, 0.0, 0.0, 32.5, 12.0, 24.0, 0.0, 29.0, 19.0, 22.0, 24.0, 27.0, 22.0, 16.0, 40.0, 9.0, 0.0, 1.0, 1.0, 4.0, 0.0, 45.0, 32.0, 19.0, 3.0, 44.0, 58.0, 0.0, 18.0, 26.0, 16.0, 40.0, 35.0, 31.0, 27.0, 32.0, 16.0, 38.0, 19.0, 35.0, 5.0, 8.0, 0.0, 24.0, 37.0, 29.0, 0.0, 30.0, 35.0, 50.0, 3.0, 25.0, 58.0, 35.0, 25.0, 41.0, 0.0, 63.0, 35.0, 19.0, 30.0, 42.0, 22.0, 26.0, 19.0, 0.0, 50.0, 0.0, 0.0, 0.0, 0.92, 0.0, 17.0, 30.0, 24.0, 18.0, 26.0, 24.0, 31.0, 40.0, 30.0, 22.0, 36.0, 36.0, 31.0, 16.0, 0.0, 0.0, 41.0, 45.0, 2.0, 24.0, 24.0, 40.0, 0.0, 3.0, 22.0, 0.0, 0.0, 60.0, 0.0, 0.0, 24.0, 25.0, 0.0, 22.0, 42.0, 1.0, 35.0, 36.0, 17.0, 36.0, 21.0, 23.0, 24.0, 28.0, 39.0, 3.0, 33.0, 44.0, 34.0, 18.0, 28.0, 19.0, 32.0, 28.0, 0.0, 42.0, 14.0, 24.0, 45.0, 28.0, 0.0, 4.0, 13.0, 34.0, 5.0, 52.0, 49.0, 29.0, 0.0, 50.0, 48.0, 0.75, 33.0, 23.0, 2.0, 63.0, 25.0, 35.0, 9.0, 54.0, 16.0, 33.0, 0.0, 26.0, 29.0, 36.0, 54.0, 34.0, 36.0, 30.0, 44.0, 50.0, 2.0, 0.0, 7.0, 30.0, 22.0, 36.0, 32.0, 19.0, 0.0, 8.0, 17.0, 22.0, 22.0, 48.0, 39.0, 36.0, 32.0, 62.0, 53.0, 36.0, 0.0, 34.0, 39.0, 32.0, 25.0, 39.0, 18.0, 60.0, 52.0, 0.0, 49.0, 24.0, 35.0, 27.0, 22.0, 40.0, 0.0, 24.0, 4.0, 42.0, 20.0, 21.0, 80.0, 32.0, 28.0, 24.0, 0.0, 0.75, 48.0, 56.0, 23.0, 18.0, 0.0, 50.0, 20.0, 0.0, 40.0, 31.0, 18.0, 36.0, 27.0, 15.0, 31.0, 4.0, 0.0, 0.0, 18.0, 35.0, 45.0, 42.0, 22.0, 0.0, 24.0, 48.0, 38.0, 27.0, 6.0, 27.0, 30.0, 0.0, 29.0, 35.0, 0.0, 21.0, 31.0, 30.0, 4.0, 6.0, 48.0, 0.67, 33.0, 20.0, 36.0, 51.0, 54.0, 5.0, 43.0, 13.0, 17.0, 18.0, 1.0, 49.0, 31.0, 31.0, 11.0, 0.42, 27.0, 33.0, 52.0, 27.0, 27.0, 1.0, 0.0, 62.0, 15.0, 0.83, 39.0, 32.0, 0.0, 30.0, 0.0, 16.0, 18.0, 45.0, 51.0, 24.0, 48.0, 42.0, 27.0, 4.0, 47.0, 28.0, 15.0, 56.0, 25.0, 19.0, 26.0], \"xaxis\": \"x\", \"yaxis\": \"y\"}],\n",
              "                        {\"barmode\": \"relative\", \"legend\": {\"tracegroupgap\": 0}, \"margin\": {\"t\": 60}, \"template\": {\"data\": {\"bar\": [{\"error_x\": {\"color\": \"#2a3f5f\"}, \"error_y\": {\"color\": \"#2a3f5f\"}, \"marker\": {\"line\": {\"color\": \"#E5ECF6\", \"width\": 0.5}}, \"type\": \"bar\"}], \"barpolar\": [{\"marker\": {\"line\": {\"color\": \"#E5ECF6\", \"width\": 0.5}}, \"type\": \"barpolar\"}], \"carpet\": [{\"aaxis\": {\"endlinecolor\": \"#2a3f5f\", \"gridcolor\": \"white\", \"linecolor\": \"white\", \"minorgridcolor\": \"white\", \"startlinecolor\": \"#2a3f5f\"}, \"baxis\": {\"endlinecolor\": \"#2a3f5f\", \"gridcolor\": \"white\", \"linecolor\": \"white\", \"minorgridcolor\": \"white\", \"startlinecolor\": \"#2a3f5f\"}, \"type\": \"carpet\"}], \"choropleth\": [{\"colorbar\": {\"outlinewidth\": 0, \"ticks\": \"\"}, \"type\": \"choropleth\"}], \"contour\": [{\"colorbar\": {\"outlinewidth\": 0, \"ticks\": \"\"}, \"colorscale\": [[0.0, \"#0d0887\"], [0.1111111111111111, \"#46039f\"], [0.2222222222222222, \"#7201a8\"], [0.3333333333333333, \"#9c179e\"], [0.4444444444444444, \"#bd3786\"], [0.5555555555555556, \"#d8576b\"], [0.6666666666666666, \"#ed7953\"], [0.7777777777777778, \"#fb9f3a\"], [0.8888888888888888, \"#fdca26\"], [1.0, \"#f0f921\"]], \"type\": \"contour\"}], \"contourcarpet\": [{\"colorbar\": {\"outlinewidth\": 0, \"ticks\": \"\"}, \"type\": \"contourcarpet\"}], \"heatmap\": [{\"colorbar\": {\"outlinewidth\": 0, \"ticks\": \"\"}, \"colorscale\": [[0.0, \"#0d0887\"], [0.1111111111111111, \"#46039f\"], [0.2222222222222222, \"#7201a8\"], [0.3333333333333333, \"#9c179e\"], [0.4444444444444444, \"#bd3786\"], [0.5555555555555556, \"#d8576b\"], [0.6666666666666666, \"#ed7953\"], [0.7777777777777778, \"#fb9f3a\"], [0.8888888888888888, \"#fdca26\"], [1.0, \"#f0f921\"]], \"type\": \"heatmap\"}], \"heatmapgl\": [{\"colorbar\": {\"outlinewidth\": 0, \"ticks\": \"\"}, \"colorscale\": [[0.0, \"#0d0887\"], [0.1111111111111111, \"#46039f\"], [0.2222222222222222, \"#7201a8\"], [0.3333333333333333, \"#9c179e\"], [0.4444444444444444, \"#bd3786\"], [0.5555555555555556, \"#d8576b\"], [0.6666666666666666, \"#ed7953\"], [0.7777777777777778, \"#fb9f3a\"], [0.8888888888888888, \"#fdca26\"], [1.0, \"#f0f921\"]], \"type\": \"heatmapgl\"}], \"histogram\": [{\"marker\": {\"colorbar\": {\"outlinewidth\": 0, \"ticks\": \"\"}}, \"type\": \"histogram\"}], \"histogram2d\": [{\"colorbar\": {\"outlinewidth\": 0, \"ticks\": \"\"}, \"colorscale\": [[0.0, \"#0d0887\"], [0.1111111111111111, \"#46039f\"], [0.2222222222222222, \"#7201a8\"], [0.3333333333333333, \"#9c179e\"], [0.4444444444444444, \"#bd3786\"], [0.5555555555555556, \"#d8576b\"], [0.6666666666666666, \"#ed7953\"], [0.7777777777777778, \"#fb9f3a\"], [0.8888888888888888, \"#fdca26\"], [1.0, \"#f0f921\"]], \"type\": \"histogram2d\"}], \"histogram2dcontour\": [{\"colorbar\": {\"outlinewidth\": 0, \"ticks\": \"\"}, \"colorscale\": [[0.0, \"#0d0887\"], [0.1111111111111111, \"#46039f\"], [0.2222222222222222, \"#7201a8\"], [0.3333333333333333, \"#9c179e\"], [0.4444444444444444, \"#bd3786\"], [0.5555555555555556, \"#d8576b\"], [0.6666666666666666, \"#ed7953\"], [0.7777777777777778, \"#fb9f3a\"], [0.8888888888888888, \"#fdca26\"], [1.0, \"#f0f921\"]], \"type\": \"histogram2dcontour\"}], \"mesh3d\": [{\"colorbar\": {\"outlinewidth\": 0, \"ticks\": \"\"}, \"type\": \"mesh3d\"}], \"parcoords\": [{\"line\": {\"colorbar\": {\"outlinewidth\": 0, \"ticks\": \"\"}}, \"type\": \"parcoords\"}], \"pie\": [{\"automargin\": true, \"type\": \"pie\"}], \"scatter\": [{\"marker\": {\"colorbar\": {\"outlinewidth\": 0, \"ticks\": \"\"}}, \"type\": \"scatter\"}], \"scatter3d\": [{\"line\": {\"colorbar\": {\"outlinewidth\": 0, \"ticks\": \"\"}}, \"marker\": {\"colorbar\": {\"outlinewidth\": 0, \"ticks\": \"\"}}, \"type\": \"scatter3d\"}], \"scattercarpet\": [{\"marker\": {\"colorbar\": {\"outlinewidth\": 0, \"ticks\": \"\"}}, \"type\": \"scattercarpet\"}], \"scattergeo\": [{\"marker\": {\"colorbar\": {\"outlinewidth\": 0, \"ticks\": \"\"}}, \"type\": \"scattergeo\"}], \"scattergl\": [{\"marker\": {\"colorbar\": {\"outlinewidth\": 0, \"ticks\": \"\"}}, \"type\": \"scattergl\"}], \"scattermapbox\": [{\"marker\": {\"colorbar\": {\"outlinewidth\": 0, \"ticks\": \"\"}}, \"type\": \"scattermapbox\"}], \"scatterpolar\": [{\"marker\": {\"colorbar\": {\"outlinewidth\": 0, \"ticks\": \"\"}}, \"type\": \"scatterpolar\"}], \"scatterpolargl\": [{\"marker\": {\"colorbar\": {\"outlinewidth\": 0, \"ticks\": \"\"}}, \"type\": \"scatterpolargl\"}], \"scatterternary\": [{\"marker\": {\"colorbar\": {\"outlinewidth\": 0, \"ticks\": \"\"}}, \"type\": \"scatterternary\"}], \"surface\": [{\"colorbar\": {\"outlinewidth\": 0, \"ticks\": \"\"}, \"colorscale\": [[0.0, \"#0d0887\"], [0.1111111111111111, \"#46039f\"], [0.2222222222222222, \"#7201a8\"], [0.3333333333333333, \"#9c179e\"], [0.4444444444444444, \"#bd3786\"], [0.5555555555555556, \"#d8576b\"], [0.6666666666666666, \"#ed7953\"], [0.7777777777777778, \"#fb9f3a\"], [0.8888888888888888, \"#fdca26\"], [1.0, \"#f0f921\"]], \"type\": \"surface\"}], \"table\": [{\"cells\": {\"fill\": {\"color\": \"#EBF0F8\"}, \"line\": {\"color\": \"white\"}}, \"header\": {\"fill\": {\"color\": \"#C8D4E3\"}, \"line\": {\"color\": \"white\"}}, \"type\": \"table\"}]}, \"layout\": {\"annotationdefaults\": {\"arrowcolor\": \"#2a3f5f\", \"arrowhead\": 0, \"arrowwidth\": 1}, \"coloraxis\": {\"colorbar\": {\"outlinewidth\": 0, \"ticks\": \"\"}}, \"colorscale\": {\"diverging\": [[0, \"#8e0152\"], [0.1, \"#c51b7d\"], [0.2, \"#de77ae\"], [0.3, \"#f1b6da\"], [0.4, \"#fde0ef\"], [0.5, \"#f7f7f7\"], [0.6, \"#e6f5d0\"], [0.7, \"#b8e186\"], [0.8, \"#7fbc41\"], [0.9, \"#4d9221\"], [1, \"#276419\"]], \"sequential\": [[0.0, \"#0d0887\"], [0.1111111111111111, \"#46039f\"], [0.2222222222222222, \"#7201a8\"], [0.3333333333333333, \"#9c179e\"], [0.4444444444444444, \"#bd3786\"], [0.5555555555555556, \"#d8576b\"], [0.6666666666666666, \"#ed7953\"], [0.7777777777777778, \"#fb9f3a\"], [0.8888888888888888, \"#fdca26\"], [1.0, \"#f0f921\"]], \"sequentialminus\": [[0.0, \"#0d0887\"], [0.1111111111111111, \"#46039f\"], [0.2222222222222222, \"#7201a8\"], [0.3333333333333333, \"#9c179e\"], [0.4444444444444444, \"#bd3786\"], [0.5555555555555556, \"#d8576b\"], [0.6666666666666666, \"#ed7953\"], [0.7777777777777778, \"#fb9f3a\"], [0.8888888888888888, \"#fdca26\"], [1.0, \"#f0f921\"]]}, \"colorway\": [\"#636efa\", \"#EF553B\", \"#00cc96\", \"#ab63fa\", \"#FFA15A\", \"#19d3f3\", \"#FF6692\", \"#B6E880\", \"#FF97FF\", \"#FECB52\"], \"font\": {\"color\": \"#2a3f5f\"}, \"geo\": {\"bgcolor\": \"white\", \"lakecolor\": \"white\", \"landcolor\": \"#E5ECF6\", \"showlakes\": true, \"showland\": true, \"subunitcolor\": \"white\"}, \"hoverlabel\": {\"align\": \"left\"}, \"hovermode\": \"closest\", \"mapbox\": {\"style\": \"light\"}, \"paper_bgcolor\": \"white\", \"plot_bgcolor\": \"#E5ECF6\", \"polar\": {\"angularaxis\": {\"gridcolor\": \"white\", \"linecolor\": \"white\", \"ticks\": \"\"}, \"bgcolor\": \"#E5ECF6\", \"radialaxis\": {\"gridcolor\": \"white\", \"linecolor\": \"white\", \"ticks\": \"\"}}, \"scene\": {\"xaxis\": {\"backgroundcolor\": \"#E5ECF6\", \"gridcolor\": \"white\", \"gridwidth\": 2, \"linecolor\": \"white\", \"showbackground\": true, \"ticks\": \"\", \"zerolinecolor\": \"white\"}, \"yaxis\": {\"backgroundcolor\": \"#E5ECF6\", \"gridcolor\": \"white\", \"gridwidth\": 2, \"linecolor\": \"white\", \"showbackground\": true, \"ticks\": \"\", \"zerolinecolor\": \"white\"}, \"zaxis\": {\"backgroundcolor\": \"#E5ECF6\", \"gridcolor\": \"white\", \"gridwidth\": 2, \"linecolor\": \"white\", \"showbackground\": true, \"ticks\": \"\", \"zerolinecolor\": \"white\"}}, \"shapedefaults\": {\"line\": {\"color\": \"#2a3f5f\"}}, \"ternary\": {\"aaxis\": {\"gridcolor\": \"white\", \"linecolor\": \"white\", \"ticks\": \"\"}, \"baxis\": {\"gridcolor\": \"white\", \"linecolor\": \"white\", \"ticks\": \"\"}, \"bgcolor\": \"#E5ECF6\", \"caxis\": {\"gridcolor\": \"white\", \"linecolor\": \"white\", \"ticks\": \"\"}}, \"title\": {\"x\": 0.05}, \"xaxis\": {\"automargin\": true, \"gridcolor\": \"white\", \"linecolor\": \"white\", \"ticks\": \"\", \"title\": {\"standoff\": 15}, \"zerolinecolor\": \"white\", \"zerolinewidth\": 2}, \"yaxis\": {\"automargin\": true, \"gridcolor\": \"white\", \"linecolor\": \"white\", \"ticks\": \"\", \"title\": {\"standoff\": 15}, \"zerolinecolor\": \"white\", \"zerolinewidth\": 2}}}, \"xaxis\": {\"anchor\": \"y\", \"domain\": [0.0, 1.0], \"title\": {\"text\": \"Age\"}}, \"yaxis\": {\"anchor\": \"x\", \"domain\": [0.0, 1.0], \"title\": {\"text\": \"count\"}}},\n",
              "                        {\"responsive\": true}\n",
              "                    ).then(function(){\n",
              "                            \n",
              "var gd = document.getElementById('2abcf280-6b4e-4cf6-bb50-e940cfc38301');\n",
              "var x = new MutationObserver(function (mutations, observer) {{\n",
              "        var display = window.getComputedStyle(gd).display;\n",
              "        if (!display || display === 'none') {{\n",
              "            console.log([gd, 'removed!']);\n",
              "            Plotly.purge(gd);\n",
              "            observer.disconnect();\n",
              "        }}\n",
              "}});\n",
              "\n",
              "// Listen for the removal of the full notebook cells\n",
              "var notebookContainer = gd.closest('#notebook-container');\n",
              "if (notebookContainer) {{\n",
              "    x.observe(notebookContainer, {childList: true});\n",
              "}}\n",
              "\n",
              "// Listen for the clearing of the current output cell\n",
              "var outputEl = gd.closest('.output');\n",
              "if (outputEl) {{\n",
              "    x.observe(outputEl, {childList: true});\n",
              "}}\n",
              "\n",
              "                        })\n",
              "                };\n",
              "                \n",
              "            </script>\n",
              "        </div>\n",
              "</body>\n",
              "</html>"
            ]
          },
          "metadata": {
            "tags": []
          }
        }
      ]
    },
    {
      "cell_type": "code",
      "metadata": {
        "colab": {
          "base_uri": "https://localhost:8080/",
          "height": 225
        },
        "id": "a1PAz44ZTzQs",
        "outputId": "b391651e-fe70-48ee-bcc0-009c725b33a5"
      },
      "source": [
        "df_Age['Age'] = pd.cut(df.Age, [0,0.1, 17, 60,max(df.Age)], right= True, include_lowest=True)\n",
        "df_Age.groupby( 'Age', as_index=True).agg(\n",
        "    {\n",
        "    'Survived': [np.mean, len]\n",
        "     }\n",
        ")"
      ],
      "execution_count": 12,
      "outputs": [
        {
          "output_type": "execute_result",
          "data": {
            "text/html": [
              "<div>\n",
              "<style scoped>\n",
              "    .dataframe tbody tr th:only-of-type {\n",
              "        vertical-align: middle;\n",
              "    }\n",
              "\n",
              "    .dataframe tbody tr th {\n",
              "        vertical-align: top;\n",
              "    }\n",
              "\n",
              "    .dataframe thead tr th {\n",
              "        text-align: left;\n",
              "    }\n",
              "\n",
              "    .dataframe thead tr:last-of-type th {\n",
              "        text-align: right;\n",
              "    }\n",
              "</style>\n",
              "<table border=\"1\" class=\"dataframe\">\n",
              "  <thead>\n",
              "    <tr>\n",
              "      <th></th>\n",
              "      <th colspan=\"2\" halign=\"left\">Survived</th>\n",
              "    </tr>\n",
              "    <tr>\n",
              "      <th></th>\n",
              "      <th>mean</th>\n",
              "      <th>len</th>\n",
              "    </tr>\n",
              "    <tr>\n",
              "      <th>Age</th>\n",
              "      <th></th>\n",
              "      <th></th>\n",
              "    </tr>\n",
              "  </thead>\n",
              "  <tbody>\n",
              "    <tr>\n",
              "      <th>(-0.001, 0.1]</th>\n",
              "      <td>0.293785</td>\n",
              "      <td>177</td>\n",
              "    </tr>\n",
              "    <tr>\n",
              "      <th>(0.1, 17.0]</th>\n",
              "      <td>0.539823</td>\n",
              "      <td>113</td>\n",
              "    </tr>\n",
              "    <tr>\n",
              "      <th>(17.0, 60.0]</th>\n",
              "      <td>0.386874</td>\n",
              "      <td>579</td>\n",
              "    </tr>\n",
              "    <tr>\n",
              "      <th>(60.0, 80.0]</th>\n",
              "      <td>0.227273</td>\n",
              "      <td>22</td>\n",
              "    </tr>\n",
              "  </tbody>\n",
              "</table>\n",
              "</div>"
            ],
            "text/plain": [
              "               Survived     \n",
              "                   mean  len\n",
              "Age                         \n",
              "(-0.001, 0.1]  0.293785  177\n",
              "(0.1, 17.0]    0.539823  113\n",
              "(17.0, 60.0]   0.386874  579\n",
              "(60.0, 80.0]   0.227273   22"
            ]
          },
          "metadata": {
            "tags": []
          },
          "execution_count": 12
        }
      ]
    },
    {
      "cell_type": "code",
      "metadata": {
        "colab": {
          "base_uri": "https://localhost:8080/",
          "height": 314
        },
        "id": "dz-OTfkEVuhB",
        "outputId": "fc4645ed-1e58-437c-ad8e-c3c67770e0fe"
      },
      "source": [
        "df_SibSp = df.loc[:,['Survived','SibSp']]\n",
        "df_SibSp.groupby('SibSp', as_index = True).agg(\n",
        "    {\n",
        "    'Survived': [np.mean,len]\n",
        "    }\n",
        ")\n",
        "                "
      ],
      "execution_count": 13,
      "outputs": [
        {
          "output_type": "execute_result",
          "data": {
            "text/html": [
              "<div>\n",
              "<style scoped>\n",
              "    .dataframe tbody tr th:only-of-type {\n",
              "        vertical-align: middle;\n",
              "    }\n",
              "\n",
              "    .dataframe tbody tr th {\n",
              "        vertical-align: top;\n",
              "    }\n",
              "\n",
              "    .dataframe thead tr th {\n",
              "        text-align: left;\n",
              "    }\n",
              "\n",
              "    .dataframe thead tr:last-of-type th {\n",
              "        text-align: right;\n",
              "    }\n",
              "</style>\n",
              "<table border=\"1\" class=\"dataframe\">\n",
              "  <thead>\n",
              "    <tr>\n",
              "      <th></th>\n",
              "      <th colspan=\"2\" halign=\"left\">Survived</th>\n",
              "    </tr>\n",
              "    <tr>\n",
              "      <th></th>\n",
              "      <th>mean</th>\n",
              "      <th>len</th>\n",
              "    </tr>\n",
              "    <tr>\n",
              "      <th>SibSp</th>\n",
              "      <th></th>\n",
              "      <th></th>\n",
              "    </tr>\n",
              "  </thead>\n",
              "  <tbody>\n",
              "    <tr>\n",
              "      <th>0</th>\n",
              "      <td>0.345395</td>\n",
              "      <td>608</td>\n",
              "    </tr>\n",
              "    <tr>\n",
              "      <th>1</th>\n",
              "      <td>0.535885</td>\n",
              "      <td>209</td>\n",
              "    </tr>\n",
              "    <tr>\n",
              "      <th>2</th>\n",
              "      <td>0.464286</td>\n",
              "      <td>28</td>\n",
              "    </tr>\n",
              "    <tr>\n",
              "      <th>3</th>\n",
              "      <td>0.250000</td>\n",
              "      <td>16</td>\n",
              "    </tr>\n",
              "    <tr>\n",
              "      <th>4</th>\n",
              "      <td>0.166667</td>\n",
              "      <td>18</td>\n",
              "    </tr>\n",
              "    <tr>\n",
              "      <th>5</th>\n",
              "      <td>0.000000</td>\n",
              "      <td>5</td>\n",
              "    </tr>\n",
              "    <tr>\n",
              "      <th>8</th>\n",
              "      <td>0.000000</td>\n",
              "      <td>7</td>\n",
              "    </tr>\n",
              "  </tbody>\n",
              "</table>\n",
              "</div>"
            ],
            "text/plain": [
              "       Survived     \n",
              "           mean  len\n",
              "SibSp               \n",
              "0      0.345395  608\n",
              "1      0.535885  209\n",
              "2      0.464286   28\n",
              "3      0.250000   16\n",
              "4      0.166667   18\n",
              "5      0.000000    5\n",
              "8      0.000000    7"
            ]
          },
          "metadata": {
            "tags": []
          },
          "execution_count": 13
        }
      ]
    },
    {
      "cell_type": "code",
      "metadata": {
        "colab": {
          "base_uri": "https://localhost:8080/",
          "height": 166
        },
        "id": "rHoG8WGE5Lwk",
        "outputId": "52f7367a-61c3-4136-bf27-163f5ed671bd"
      },
      "source": [
        "df_SibSp['SibSp_cut'] = pd.cut(df.SibSp, [0,1,9], right = False, include_lowest=True)\n",
        "df_SibSp.groupby('SibSp_cut', as_index = True).agg(\n",
        "    {'Survived': [np.mean,len]}\n",
        ")\n",
        "        "
      ],
      "execution_count": 14,
      "outputs": [
        {
          "output_type": "execute_result",
          "data": {
            "text/html": [
              "<div>\n",
              "<style scoped>\n",
              "    .dataframe tbody tr th:only-of-type {\n",
              "        vertical-align: middle;\n",
              "    }\n",
              "\n",
              "    .dataframe tbody tr th {\n",
              "        vertical-align: top;\n",
              "    }\n",
              "\n",
              "    .dataframe thead tr th {\n",
              "        text-align: left;\n",
              "    }\n",
              "\n",
              "    .dataframe thead tr:last-of-type th {\n",
              "        text-align: right;\n",
              "    }\n",
              "</style>\n",
              "<table border=\"1\" class=\"dataframe\">\n",
              "  <thead>\n",
              "    <tr>\n",
              "      <th></th>\n",
              "      <th colspan=\"2\" halign=\"left\">Survived</th>\n",
              "    </tr>\n",
              "    <tr>\n",
              "      <th></th>\n",
              "      <th>mean</th>\n",
              "      <th>len</th>\n",
              "    </tr>\n",
              "    <tr>\n",
              "      <th>SibSp_cut</th>\n",
              "      <th></th>\n",
              "      <th></th>\n",
              "    </tr>\n",
              "  </thead>\n",
              "  <tbody>\n",
              "    <tr>\n",
              "      <th>[0, 1)</th>\n",
              "      <td>0.345395</td>\n",
              "      <td>608</td>\n",
              "    </tr>\n",
              "    <tr>\n",
              "      <th>[1, 9)</th>\n",
              "      <td>0.466431</td>\n",
              "      <td>283</td>\n",
              "    </tr>\n",
              "  </tbody>\n",
              "</table>\n",
              "</div>"
            ],
            "text/plain": [
              "           Survived     \n",
              "               mean  len\n",
              "SibSp_cut               \n",
              "[0, 1)     0.345395  608\n",
              "[1, 9)     0.466431  283"
            ]
          },
          "metadata": {
            "tags": []
          },
          "execution_count": 14
        }
      ]
    },
    {
      "cell_type": "code",
      "metadata": {
        "colab": {
          "base_uri": "https://localhost:8080/"
        },
        "id": "7M23epP18ypS",
        "outputId": "b54accf1-8daa-4449-cc94-411d723f1deb"
      },
      "source": [
        "df.columns"
      ],
      "execution_count": 15,
      "outputs": [
        {
          "output_type": "execute_result",
          "data": {
            "text/plain": [
              "Index(['PassengerId', 'Survived', 'Pclass', 'Name', 'Sex', 'Age', 'SibSp',\n",
              "       'Parch', 'Ticket', 'Fare', 'Cabin', 'Embarked'],\n",
              "      dtype='object')"
            ]
          },
          "metadata": {
            "tags": []
          },
          "execution_count": 15
        }
      ]
    },
    {
      "cell_type": "code",
      "metadata": {
        "colab": {
          "base_uri": "https://localhost:8080/",
          "height": 314
        },
        "id": "4lJjdJi48xgx",
        "outputId": "c559fe77-1d64-46a8-b6c8-022762117a10"
      },
      "source": [
        "df_Parch = df.loc[:,['Survived','Parch']]\n",
        "df_Parch.groupby('Parch', as_index = True).agg(\n",
        "    {\n",
        "    'Survived': [np.mean,len]\n",
        "    }\n",
        ")"
      ],
      "execution_count": 16,
      "outputs": [
        {
          "output_type": "execute_result",
          "data": {
            "text/html": [
              "<div>\n",
              "<style scoped>\n",
              "    .dataframe tbody tr th:only-of-type {\n",
              "        vertical-align: middle;\n",
              "    }\n",
              "\n",
              "    .dataframe tbody tr th {\n",
              "        vertical-align: top;\n",
              "    }\n",
              "\n",
              "    .dataframe thead tr th {\n",
              "        text-align: left;\n",
              "    }\n",
              "\n",
              "    .dataframe thead tr:last-of-type th {\n",
              "        text-align: right;\n",
              "    }\n",
              "</style>\n",
              "<table border=\"1\" class=\"dataframe\">\n",
              "  <thead>\n",
              "    <tr>\n",
              "      <th></th>\n",
              "      <th colspan=\"2\" halign=\"left\">Survived</th>\n",
              "    </tr>\n",
              "    <tr>\n",
              "      <th></th>\n",
              "      <th>mean</th>\n",
              "      <th>len</th>\n",
              "    </tr>\n",
              "    <tr>\n",
              "      <th>Parch</th>\n",
              "      <th></th>\n",
              "      <th></th>\n",
              "    </tr>\n",
              "  </thead>\n",
              "  <tbody>\n",
              "    <tr>\n",
              "      <th>0</th>\n",
              "      <td>0.343658</td>\n",
              "      <td>678</td>\n",
              "    </tr>\n",
              "    <tr>\n",
              "      <th>1</th>\n",
              "      <td>0.550847</td>\n",
              "      <td>118</td>\n",
              "    </tr>\n",
              "    <tr>\n",
              "      <th>2</th>\n",
              "      <td>0.500000</td>\n",
              "      <td>80</td>\n",
              "    </tr>\n",
              "    <tr>\n",
              "      <th>3</th>\n",
              "      <td>0.600000</td>\n",
              "      <td>5</td>\n",
              "    </tr>\n",
              "    <tr>\n",
              "      <th>4</th>\n",
              "      <td>0.000000</td>\n",
              "      <td>4</td>\n",
              "    </tr>\n",
              "    <tr>\n",
              "      <th>5</th>\n",
              "      <td>0.200000</td>\n",
              "      <td>5</td>\n",
              "    </tr>\n",
              "    <tr>\n",
              "      <th>6</th>\n",
              "      <td>0.000000</td>\n",
              "      <td>1</td>\n",
              "    </tr>\n",
              "  </tbody>\n",
              "</table>\n",
              "</div>"
            ],
            "text/plain": [
              "       Survived     \n",
              "           mean  len\n",
              "Parch               \n",
              "0      0.343658  678\n",
              "1      0.550847  118\n",
              "2      0.500000   80\n",
              "3      0.600000    5\n",
              "4      0.000000    4\n",
              "5      0.200000    5\n",
              "6      0.000000    1"
            ]
          },
          "metadata": {
            "tags": []
          },
          "execution_count": 16
        }
      ]
    },
    {
      "cell_type": "code",
      "metadata": {
        "colab": {
          "base_uri": "https://localhost:8080/",
          "height": 166
        },
        "id": "RwLUxlNX6gHe",
        "outputId": "85220575-9664-4003-9cf7-b410934cd8f5"
      },
      "source": [
        "df_Parch['Parch_cut'] = pd.cut(df.SibSp, [0,1,7], right = False, include_lowest=True)\n",
        "df_Parch.groupby('Parch_cut', as_index = True).agg(\n",
        "    {'Survived': [np.mean,len]}\n",
        ")\n",
        "      "
      ],
      "execution_count": 17,
      "outputs": [
        {
          "output_type": "execute_result",
          "data": {
            "text/html": [
              "<div>\n",
              "<style scoped>\n",
              "    .dataframe tbody tr th:only-of-type {\n",
              "        vertical-align: middle;\n",
              "    }\n",
              "\n",
              "    .dataframe tbody tr th {\n",
              "        vertical-align: top;\n",
              "    }\n",
              "\n",
              "    .dataframe thead tr th {\n",
              "        text-align: left;\n",
              "    }\n",
              "\n",
              "    .dataframe thead tr:last-of-type th {\n",
              "        text-align: right;\n",
              "    }\n",
              "</style>\n",
              "<table border=\"1\" class=\"dataframe\">\n",
              "  <thead>\n",
              "    <tr>\n",
              "      <th></th>\n",
              "      <th colspan=\"2\" halign=\"left\">Survived</th>\n",
              "    </tr>\n",
              "    <tr>\n",
              "      <th></th>\n",
              "      <th>mean</th>\n",
              "      <th>len</th>\n",
              "    </tr>\n",
              "    <tr>\n",
              "      <th>Parch_cut</th>\n",
              "      <th></th>\n",
              "      <th></th>\n",
              "    </tr>\n",
              "  </thead>\n",
              "  <tbody>\n",
              "    <tr>\n",
              "      <th>[0, 1)</th>\n",
              "      <td>0.345395</td>\n",
              "      <td>608</td>\n",
              "    </tr>\n",
              "    <tr>\n",
              "      <th>[1, 7)</th>\n",
              "      <td>0.478261</td>\n",
              "      <td>276</td>\n",
              "    </tr>\n",
              "  </tbody>\n",
              "</table>\n",
              "</div>"
            ],
            "text/plain": [
              "           Survived     \n",
              "               mean  len\n",
              "Parch_cut               \n",
              "[0, 1)     0.345395  608\n",
              "[1, 7)     0.478261  276"
            ]
          },
          "metadata": {
            "tags": []
          },
          "execution_count": 17
        }
      ]
    },
    {
      "cell_type": "code",
      "metadata": {
        "colab": {
          "base_uri": "https://localhost:8080/"
        },
        "id": "DDP_DDPv9XDN",
        "outputId": "b4aedc84-01d7-457b-8148-54002a51712a"
      },
      "source": [
        "# a new df \n",
        "df['alone'] = df['SibSp']+ df['Parch']\n",
        "df_alone = df[['alone','Survived']]\n",
        "df_alone['alone_cut'] =pd.cut(df.alone, [0,0.9,10],right=True, include_lowest=True).cat.codes"
      ],
      "execution_count": 18,
      "outputs": [
        {
          "output_type": "stream",
          "text": [
            "/usr/local/lib/python3.7/dist-packages/ipykernel_launcher.py:4: SettingWithCopyWarning:\n",
            "\n",
            "\n",
            "A value is trying to be set on a copy of a slice from a DataFrame.\n",
            "Try using .loc[row_indexer,col_indexer] = value instead\n",
            "\n",
            "See the caveats in the documentation: https://pandas.pydata.org/pandas-docs/stable/user_guide/indexing.html#returning-a-view-versus-a-copy\n",
            "\n"
          ],
          "name": "stderr"
        }
      ]
    },
    {
      "cell_type": "code",
      "metadata": {
        "colab": {
          "base_uri": "https://localhost:8080/",
          "height": 373
        },
        "id": "qRxmHBRTAra-",
        "outputId": "34701c87-c31f-4c53-9c71-16bedb6c132d"
      },
      "source": [
        "df_alone.groupby('alone', as_index = True).agg(\n",
        "    {\n",
        "    'Survived': [np.mean,len]\n",
        "    }\n",
        ")"
      ],
      "execution_count": 19,
      "outputs": [
        {
          "output_type": "execute_result",
          "data": {
            "text/html": [
              "<div>\n",
              "<style scoped>\n",
              "    .dataframe tbody tr th:only-of-type {\n",
              "        vertical-align: middle;\n",
              "    }\n",
              "\n",
              "    .dataframe tbody tr th {\n",
              "        vertical-align: top;\n",
              "    }\n",
              "\n",
              "    .dataframe thead tr th {\n",
              "        text-align: left;\n",
              "    }\n",
              "\n",
              "    .dataframe thead tr:last-of-type th {\n",
              "        text-align: right;\n",
              "    }\n",
              "</style>\n",
              "<table border=\"1\" class=\"dataframe\">\n",
              "  <thead>\n",
              "    <tr>\n",
              "      <th></th>\n",
              "      <th colspan=\"2\" halign=\"left\">Survived</th>\n",
              "    </tr>\n",
              "    <tr>\n",
              "      <th></th>\n",
              "      <th>mean</th>\n",
              "      <th>len</th>\n",
              "    </tr>\n",
              "    <tr>\n",
              "      <th>alone</th>\n",
              "      <th></th>\n",
              "      <th></th>\n",
              "    </tr>\n",
              "  </thead>\n",
              "  <tbody>\n",
              "    <tr>\n",
              "      <th>0</th>\n",
              "      <td>0.303538</td>\n",
              "      <td>537</td>\n",
              "    </tr>\n",
              "    <tr>\n",
              "      <th>1</th>\n",
              "      <td>0.552795</td>\n",
              "      <td>161</td>\n",
              "    </tr>\n",
              "    <tr>\n",
              "      <th>2</th>\n",
              "      <td>0.578431</td>\n",
              "      <td>102</td>\n",
              "    </tr>\n",
              "    <tr>\n",
              "      <th>3</th>\n",
              "      <td>0.724138</td>\n",
              "      <td>29</td>\n",
              "    </tr>\n",
              "    <tr>\n",
              "      <th>4</th>\n",
              "      <td>0.200000</td>\n",
              "      <td>15</td>\n",
              "    </tr>\n",
              "    <tr>\n",
              "      <th>5</th>\n",
              "      <td>0.136364</td>\n",
              "      <td>22</td>\n",
              "    </tr>\n",
              "    <tr>\n",
              "      <th>6</th>\n",
              "      <td>0.333333</td>\n",
              "      <td>12</td>\n",
              "    </tr>\n",
              "    <tr>\n",
              "      <th>7</th>\n",
              "      <td>0.000000</td>\n",
              "      <td>6</td>\n",
              "    </tr>\n",
              "    <tr>\n",
              "      <th>10</th>\n",
              "      <td>0.000000</td>\n",
              "      <td>7</td>\n",
              "    </tr>\n",
              "  </tbody>\n",
              "</table>\n",
              "</div>"
            ],
            "text/plain": [
              "       Survived     \n",
              "           mean  len\n",
              "alone               \n",
              "0      0.303538  537\n",
              "1      0.552795  161\n",
              "2      0.578431  102\n",
              "3      0.724138   29\n",
              "4      0.200000   15\n",
              "5      0.136364   22\n",
              "6      0.333333   12\n",
              "7      0.000000    6\n",
              "10     0.000000    7"
            ]
          },
          "metadata": {
            "tags": []
          },
          "execution_count": 19
        }
      ]
    },
    {
      "cell_type": "code",
      "metadata": {
        "colab": {
          "base_uri": "https://localhost:8080/",
          "height": 166
        },
        "id": "pjpz6RYyBjVK",
        "outputId": "19d8c8c7-f102-49a9-95a9-7f50cf5e012f"
      },
      "source": [
        "df_alone.groupby('alone_cut', as_index = True).agg(\n",
        "    {\n",
        "    'Survived': [np.mean,len]\n",
        "    }\n",
        ")"
      ],
      "execution_count": 20,
      "outputs": [
        {
          "output_type": "execute_result",
          "data": {
            "text/html": [
              "<div>\n",
              "<style scoped>\n",
              "    .dataframe tbody tr th:only-of-type {\n",
              "        vertical-align: middle;\n",
              "    }\n",
              "\n",
              "    .dataframe tbody tr th {\n",
              "        vertical-align: top;\n",
              "    }\n",
              "\n",
              "    .dataframe thead tr th {\n",
              "        text-align: left;\n",
              "    }\n",
              "\n",
              "    .dataframe thead tr:last-of-type th {\n",
              "        text-align: right;\n",
              "    }\n",
              "</style>\n",
              "<table border=\"1\" class=\"dataframe\">\n",
              "  <thead>\n",
              "    <tr>\n",
              "      <th></th>\n",
              "      <th colspan=\"2\" halign=\"left\">Survived</th>\n",
              "    </tr>\n",
              "    <tr>\n",
              "      <th></th>\n",
              "      <th>mean</th>\n",
              "      <th>len</th>\n",
              "    </tr>\n",
              "    <tr>\n",
              "      <th>alone_cut</th>\n",
              "      <th></th>\n",
              "      <th></th>\n",
              "    </tr>\n",
              "  </thead>\n",
              "  <tbody>\n",
              "    <tr>\n",
              "      <th>0</th>\n",
              "      <td>0.303538</td>\n",
              "      <td>537</td>\n",
              "    </tr>\n",
              "    <tr>\n",
              "      <th>1</th>\n",
              "      <td>0.505650</td>\n",
              "      <td>354</td>\n",
              "    </tr>\n",
              "  </tbody>\n",
              "</table>\n",
              "</div>"
            ],
            "text/plain": [
              "           Survived     \n",
              "               mean  len\n",
              "alone_cut               \n",
              "0          0.303538  537\n",
              "1          0.505650  354"
            ]
          },
          "metadata": {
            "tags": []
          },
          "execution_count": 20
        }
      ]
    },
    {
      "cell_type": "code",
      "metadata": {
        "colab": {
          "base_uri": "https://localhost:8080/"
        },
        "id": "8qGhhA0bIWAR",
        "outputId": "8cd2ff44-4853-437a-dccc-e4c8877f49d6"
      },
      "source": [
        "df.columns"
      ],
      "execution_count": 21,
      "outputs": [
        {
          "output_type": "execute_result",
          "data": {
            "text/plain": [
              "Index(['PassengerId', 'Survived', 'Pclass', 'Name', 'Sex', 'Age', 'SibSp',\n",
              "       'Parch', 'Ticket', 'Fare', 'Cabin', 'Embarked', 'alone'],\n",
              "      dtype='object')"
            ]
          },
          "metadata": {
            "tags": []
          },
          "execution_count": 21
        }
      ]
    },
    {
      "cell_type": "code",
      "metadata": {
        "id": "38Gv67kTb2ja"
      },
      "source": [
        "df_train = df.copy()\n",
        "df_train = pd.get_dummies(df_train, columns=[\"Embarked\",'Pclass'])"
      ],
      "execution_count": 22,
      "outputs": []
    },
    {
      "cell_type": "code",
      "metadata": {
        "colab": {
          "base_uri": "https://localhost:8080/"
        },
        "id": "UIZ-kHa3WqKl",
        "outputId": "8c831f07-88ef-49c0-c1ac-cf4e9f8ebeb8"
      },
      "source": [
        "df_train.columns"
      ],
      "execution_count": 37,
      "outputs": [
        {
          "output_type": "execute_result",
          "data": {
            "text/plain": [
              "Index(['PassengerId', 'Survived', 'Name', 'Sex', 'Age', 'SibSp', 'Parch',\n",
              "       'Ticket', 'Fare', 'Cabin', 'alone', 'Embarked_C', 'Embarked_Q',\n",
              "       'Embarked_S', 'Pclass_1', 'Pclass_2', 'Pclass_3', 'Alone'],\n",
              "      dtype='object')"
            ]
          },
          "metadata": {
            "tags": []
          },
          "execution_count": 37
        }
      ]
    },
    {
      "cell_type": "code",
      "metadata": {
        "id": "hl8dy1cGIfi0"
      },
      "source": [
        "df_train['Alone'] = df_alone.alone_cut"
      ],
      "execution_count": 23,
      "outputs": []
    },
    {
      "cell_type": "code",
      "metadata": {
        "id": "prNlDkvHNUqA"
      },
      "source": [
        "df_train['Sex'] = df['Sex'].apply(lambda x: 0 if x=='female' else 1 )"
      ],
      "execution_count": 24,
      "outputs": []
    },
    {
      "cell_type": "code",
      "metadata": {
        "colab": {
          "base_uri": "https://localhost:8080/"
        },
        "id": "pu2aSfxdKO7D",
        "outputId": "87fe0634-5294-4233-c43a-3aa6bb125e72"
      },
      "source": [
        "df_train.columns"
      ],
      "execution_count": 25,
      "outputs": [
        {
          "output_type": "execute_result",
          "data": {
            "text/plain": [
              "Index(['PassengerId', 'Survived', 'Name', 'Sex', 'Age', 'SibSp', 'Parch',\n",
              "       'Ticket', 'Fare', 'Cabin', 'alone', 'Embarked_C', 'Embarked_Q',\n",
              "       'Embarked_S', 'Pclass_1', 'Pclass_2', 'Pclass_3', 'Alone'],\n",
              "      dtype='object')"
            ]
          },
          "metadata": {
            "tags": []
          },
          "execution_count": 25
        }
      ]
    },
    {
      "cell_type": "markdown",
      "metadata": {
        "id": "woYX2drHMG2F"
      },
      "source": [
        "### variable summary \n",
        "[-]: drop \\\n",
        "[.]: add as the original \\\n",
        "[^.]: changed and added  \n",
        "[+]: add the new variable \\ \n",
        "\n",
        "--- \n",
        "Shape: 892*12\n",
        "* survived: 0 --> dead; 1---> live\n",
        "\n",
        "---\n",
        "numeric variables\n",
        "\n",
        "* [.]Age: float with missing 178.\n",
        "* [-]SibSp: the number of the sib\n",
        "* [-]Parch: the number of children\n",
        "* [-]Fare: \n",
        "---\n",
        "categorical variables\n",
        "* [.]sex: male; female\n",
        "* [-]Ticket: code of the ticket\n",
        "* [-]Cabin: code of the cab\n",
        "  + Cabin_Site: [A-Z]+[1-5], indicate the site of the ship. \n",
        "    however, it has 668 missing data decide to drop\n",
        "* [.]Embarked: Embarked_C = Cherbourg; Embarked_Q = Queenstown; Embarked_S = Southampton\n",
        "* [.]Pclass: class of passagers belong to \n",
        "* [+]Alone: 0 no accompanied, >0.9 with accompanied. "
      ]
    },
    {
      "cell_type": "markdown",
      "metadata": {
        "id": "yJPNvaxGHVBN"
      },
      "source": [
        "## Section2 \n",
        "\n",
        "After pick the initial features. We want to applied the decision tree method futher to determined the ones with higher information score. \n",
        "\n",
        "After the applied, `Age, Sex,Pclass` thee can be used. \n",
        "\n",
        "Next, we will do the rebalance by over and under sampling. \n",
        "\n"
      ]
    },
    {
      "cell_type": "code",
      "metadata": {
        "id": "rYJYL9hfAWci"
      },
      "source": [
        "from sklearn.compose import make_column_transformer"
      ],
      "execution_count": 26,
      "outputs": []
    },
    {
      "cell_type": "code",
      "metadata": {
        "id": "Z6HYUavQBt37"
      },
      "source": [
        "selected_features = ['Age','Embarked_C',\t'Embarked_Q','Embarked_S','Sex','Pclass_1', 'Pclass_2', 'Pclass_3','Alone']\n",
        "X = df_train[selected_features]\n",
        "y = df.Survived"
      ],
      "execution_count": 27,
      "outputs": []
    },
    {
      "cell_type": "code",
      "metadata": {
        "colab": {
          "base_uri": "https://localhost:8080/"
        },
        "id": "4sfaCunpKylG",
        "outputId": "521c12da-651e-4034-ebae-7268477210ea"
      },
      "source": [
        "y.mean()"
      ],
      "execution_count": 29,
      "outputs": [
        {
          "output_type": "execute_result",
          "data": {
            "text/plain": [
              "0.3838383838383838"
            ]
          },
          "metadata": {
            "tags": []
          },
          "execution_count": 29
        }
      ]
    },
    {
      "cell_type": "markdown",
      "metadata": {
        "id": "v4iP9BMo70lJ"
      },
      "source": [
        "oversampying, undersamplying and combine the over and under samplying "
      ]
    },
    {
      "cell_type": "code",
      "metadata": {
        "id": "emQBz1e-BlvZ"
      },
      "source": [
        "from imblearn.under_sampling import RandomUnderSampler\n",
        "from imblearn.over_sampling import SMOTEN"
      ],
      "execution_count": null,
      "outputs": []
    },
    {
      "cell_type": "code",
      "metadata": {
        "colab": {
          "base_uri": "https://localhost:8080/"
        },
        "id": "e8d0L9qogfwq",
        "outputId": "bb47f3f9-6635-4be2-9540-22d2f7eaadd5"
      },
      "source": [
        "from sklearn import preprocessing,tree\n",
        "from sklearn.model_selection import GridSearchCV\n",
        "param_grid = {'min_samples_leaf':np.arange(20,50,5),\n",
        "              'min_samples_split':np.arange(20,50,5),\n",
        "              'max_depth':np.arange(3,6),\n",
        "              'min_weight_fraction_leaf':np.arange(0,0.4,0.1),\n",
        "              'criterion':['gini','entropy']}\n",
        "clf = tree.DecisionTreeClassifier()\n",
        "tree_search = GridSearchCV(clf, param_grid, scoring='average_precision')\n",
        "\n",
        "tree_search.fit(X,y)\n",
        "\n",
        "print(\"Tree best parameters :\",tree_search.best_params_)\n",
        "print(\"Tree best estimator :\",tree_search.best_estimator_ )\n",
        "print(\"Tree best score :\",tree_search.best_score_ )"
      ],
      "execution_count": 159,
      "outputs": [
        {
          "output_type": "stream",
          "text": [
            "Tree best parameters : {'criterion': 'entropy', 'max_depth': 5, 'min_samples_leaf': 20, 'min_samples_split': 20, 'min_weight_fraction_leaf': 0.0}\n",
            "Tree best estimator : DecisionTreeClassifier(ccp_alpha=0.0, class_weight=None, criterion='entropy',\n",
            "                       max_depth=5, max_features=None, max_leaf_nodes=None,\n",
            "                       min_impurity_decrease=0.0, min_impurity_split=None,\n",
            "                       min_samples_leaf=20, min_samples_split=20,\n",
            "                       min_weight_fraction_leaf=0.0, presort='deprecated',\n",
            "                       random_state=None, splitter='best')\n",
            "Tree best score : 0.8079770030033119\n"
          ],
          "name": "stdout"
        }
      ]
    },
    {
      "cell_type": "code",
      "metadata": {
        "colab": {
          "base_uri": "https://localhost:8080/",
          "height": 334
        },
        "id": "pGyKqRoPg4S3",
        "outputId": "fb29e0ee-941c-4f4d-e644-b29cda517159"
      },
      "source": [
        "import seaborn as sns\n",
        "import matplotlib.pyplot as plt\n",
        "\n",
        "\n",
        "tree_best_parameters = tree_search.best_params_\n",
        "tree_optimized = tree.DecisionTreeClassifier(**tree_best_parameters)\n",
        "tree_optimized.fit(X,y)\n",
        "\n",
        "train_columns = list(X.columns)\n",
        "\n",
        "fig, ax = plt.subplots( figsize=(6,4))\n",
        "ax.bar(range(len(X.columns)),tree_optimized.feature_importances_ )\n",
        "plt.xticks(range(len(X.columns)),X.columns,rotation=90)\n",
        "ax.set_title(\"Feature importance\")\n",
        "plt.show()"
      ],
      "execution_count": 163,
      "outputs": [
        {
          "output_type": "display_data",
          "data": {
            "image/png": "[encoded data removed]",
            "text/plain": [
              "<Figure size 432x288 with 1 Axes>"
            ]
          },
          "metadata": {
            "tags": [],
            "needs_background": "light"
          }
        }
      ]
    },
    {
      "cell_type": "markdown",
      "metadata": {
        "id": "CfAjV25ohQQS"
      },
      "source": [
        "when we do the samplying, need to pay attention to compare the result. "
      ]
    },
    {
      "cell_type": "code",
      "metadata": {
        "colab": {
          "base_uri": "https://localhost:8080/"
        },
        "id": "IVk7xPzBAEsz",
        "outputId": "511e41de-fe93-4524-c385-aa6f5d26ec39"
      },
      "source": [
        "# Oversample and plot imbalanced dataset with SMOTE :repeat some samples and balance the\n",
        "from collections import Counter\n",
        "from sklearn.datasets import make_classification\n",
        "from imblearn.over_sampling import SMOTE,RandomOverSampler,ADASYN\n",
        "from matplotlib import pyplot\n",
        "from numpy import where\n",
        "# summarize class distribution\n",
        "counter = Counter(y)\n",
        "print(counter)\n",
        "# transform the dataset\n",
        "oversample = SMOTE()\n",
        "Sample_X, Sample_y = oversample.fit_resample(X, y)\n",
        "# summarize the new class distribution\n",
        "print(Counter(Sample_y))"
      ],
      "execution_count": 60,
      "outputs": [
        {
          "output_type": "stream",
          "text": [
            "Counter({1: 51, 0: 49})\n",
            "Counter({1: 51, 0: 51})\n"
          ],
          "name": "stdout"
        },
        {
          "output_type": "stream",
          "text": [
            "/usr/local/lib/python3.7/dist-packages/sklearn/utils/deprecation.py:87: FutureWarning:\n",
            "\n",
            "Function safe_indexing is deprecated; safe_indexing is deprecated in version 0.22 and will be removed in version 0.24.\n",
            "\n"
          ],
          "name": "stderr"
        }
      ]
    },
    {
      "cell_type": "code",
      "metadata": {
        "id": "RSqoRBdjcl-a"
      },
      "source": [
        "from imblearn.over_sampling import SMOTE,RandomOverSampler,ADASYN\n",
        "plt.subplot(222)\n",
        "X_resampled, y_resampled = RandomOverSampler().fit_sample(X, y)\n",
        "plt.scatter(X_resampled[:, 0 ], X_resampled[:, 1], c=y_resampled, cmap=plt.cm.Paired)\n",
        "plt.title(\"Resampling using RandomOverSampler\")\n",
        "#RMOT过采样\n",
        "plt.subplot(223)\n",
        "X_resampled, y_resampled = SMOTE().fit_sample(X, y)\n",
        "plt.scatter(X_resampled[:, 0 ], X_resampled[:, 1], c=y_resampled, cmap=plt.cm.Paired)\n",
        "plt.title(\"Resampling using SMOTE\")\n",
        "\n",
        "plt.show()"
      ],
      "execution_count": null,
      "outputs": []
    },
    {
      "cell_type": "code",
      "metadata": {
        "colab": {
          "base_uri": "https://localhost:8080/"
        },
        "id": "9dOtnppYAwRa",
        "outputId": "d4bd044e-253b-4323-b09d-7efc8aa20e2f"
      },
      "source": [
        "from sklearn import preprocessing,tree\n",
        "from sklearn.model_selection import GridSearchCV\n",
        "param_grid = {'min_samples_leaf':np.arange(20,50,5),\n",
        "              'min_samples_split':np.arange(20,50,5),\n",
        "              'max_depth':np.arange(3,6),\n",
        "              'min_weight_fraction_leaf':np.arange(0,0.4,0.1),\n",
        "              'criterion':['gini','entropy']}\n",
        "clf = tree.DecisionTreeClassifier()\n",
        "tree_search = GridSearchCV(clf, param_grid, scoring='average_precision' )\n",
        "\n",
        "tree_search.fit(X,y)\n",
        "\n",
        "print(\"Tree best parameters :\",tree_search.best_params_)\n",
        "print(\"Tree best estimator :\",tree_search.best_estimator_ )\n",
        "print(\"Tree best score :\",tree_search.best_score_ )"
      ],
      "execution_count": 32,
      "outputs": [
        {
          "output_type": "stream",
          "text": [
            "Tree best parameters : {'criterion': 'gini', 'max_depth': 5, 'min_samples_leaf': 20, 'min_samples_split': 20, 'min_weight_fraction_leaf': 0.0}\n",
            "Tree best estimator : DecisionTreeClassifier(ccp_alpha=0.0, class_weight=None, criterion='gini',\n",
            "                       max_depth=5, max_features=None, max_leaf_nodes=None,\n",
            "                       min_impurity_decrease=0.0, min_impurity_split=None,\n",
            "                       min_samples_leaf=20, min_samples_split=20,\n",
            "                       min_weight_fraction_leaf=0.0, presort='deprecated',\n",
            "                       random_state=None, splitter='best')\n",
            "Tree best score : 0.8856827576004479\n"
          ],
          "name": "stdout"
        }
      ]
    },
    {
      "cell_type": "code",
      "metadata": {
        "id": "LCEJHgHrBGxa"
      },
      "source": [
        "import seaborn as sns\n",
        "import matplotlib.pyplot as plt\n",
        "\n",
        "\n",
        "tree_best_parameters = tree_search.best_params_\n",
        "tree_optimized = tree.DecisionTreeClassifier(**tree_best_parameters)\n",
        "tree_optimized.fit(X,y)\n",
        "\n",
        "train_columns = list(X.columns)\n",
        "\n",
        "fig, ax = plt.subplots( figsize=(6,4))\n",
        "ax.bar(range(len(X.columns)),tree_optimized.feature_importances_ )\n",
        "plt.xticks(range(len(X.columns)),X.columns,rotation=90)\n",
        "ax.set_title(\"Feature importance\")\n",
        "plt.show()"
      ],
      "execution_count": null,
      "outputs": []
    },
    {
      "cell_type": "code",
      "metadata": {
        "id": "t62RV_o8BJ2w"
      },
      "source": [
        ""
      ],
      "execution_count": null,
      "outputs": []
    }
  ]
}